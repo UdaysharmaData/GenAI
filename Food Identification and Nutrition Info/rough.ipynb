{
 "cells": [
  {
   "cell_type": "code",
   "execution_count": 1,
   "metadata": {},
   "outputs": [
    {
     "name": "stderr",
     "output_type": "stream",
     "text": [
      "c:\\Users\\uday.sharma\\AppData\\Local\\anaconda3\\envs\\VENV\\lib\\site-packages\\tqdm\\auto.py:21: TqdmWarning: IProgress not found. Please update jupyter and ipywidgets. See https://ipywidgets.readthedocs.io/en/stable/user_install.html\n",
      "  from .autonotebook import tqdm as notebook_tqdm\n"
     ]
    },
    {
     "name": "stdout",
     "output_type": "stream",
     "text": [
      "Granny Smith\n"
     ]
    }
   ],
   "source": [
    "from PIL import Image\n",
    "from transformers import ViTFeatureExtractor,ViTForImageClassification\n",
    "import warnings\n",
    "warnings.filterwarnings(\"ignore\")\n",
    "\n",
    "\n",
    "model_name = \"google/vit-base-patch16-224\"\n",
    "feature_extractor = ViTFeatureExtractor.from_pretrained(model_name)\n",
    "model = ViTForImageClassification.from_pretrained(model_name)\n",
    "\n",
    "\n",
    "image_path = \"01.jpeg\"\n",
    "image = Image.open(image_path)\n",
    "\n",
    "\n",
    "inputs = feature_extractor(images=image,return_tensors = 'pt')\n",
    "\n",
    "\n",
    "outputs = model(**inputs)\n",
    "logits = outputs.logits\n",
    "predicted_class_idx = logits.argmax(-1).item()\n",
    "predicted_label = model.config.id2label[predicted_class_idx] \n",
    "\n",
    "\n",
    "food_name = predicted_label.split(',')[0]\n",
    "\n",
    "\n",
    "print(food_name)"
   ]
  },
  {
   "cell_type": "code",
   "execution_count": 2,
   "metadata": {},
   "outputs": [
    {
     "name": "stdout",
     "output_type": "stream",
     "text": [
      "[{\"name\": \"granny smith\", \"calories\": \"Only available for premium subscribers.\", \"serving_size_g\": \"Only available for premium subscribers.\", \"fat_total_g\": 0.2, \"fat_saturated_g\": 0.0, \"protein_g\": \"Only available for premium subscribers.\", \"sodium_mg\": 1, \"potassium_mg\": 12, \"cholesterol_mg\": 0, \"carbohydrates_total_g\": 13.4, \"fiber_g\": 2.8, \"sugar_g\": 9.5}]\n"
     ]
    }
   ],
   "source": [
    "import requests\n",
    "\n",
    "api_key = 'ebeVnfjCAVQVIn+soOIJrQ==JmkQsCiwKfbWBlXT'\n",
    "query = food_name\n",
    "api_url = 'https://api.api-ninjas.com/v1/nutrition?query={}'.format(query)\n",
    "\n",
    "\n",
    "response = requests.get(api_url,headers={'X-API-KEY':api_key})\n",
    "\n",
    "if response.status_code == requests.codes.ok:\n",
    "    print(response.text)\n",
    "else:\n",
    "    print(\"Error: \",response.status_code,response.text)"
   ]
  },
  {
   "cell_type": "code",
   "execution_count": null,
   "metadata": {},
   "outputs": [],
   "source": []
  }
 ],
 "metadata": {
  "kernelspec": {
   "display_name": "VENV",
   "language": "python",
   "name": "python3"
  },
  "language_info": {
   "codemirror_mode": {
    "name": "ipython",
    "version": 3
   },
   "file_extension": ".py",
   "mimetype": "text/x-python",
   "name": "python",
   "nbconvert_exporter": "python",
   "pygments_lexer": "ipython3",
   "version": "3.10.16"
  }
 },
 "nbformat": 4,
 "nbformat_minor": 2
}
